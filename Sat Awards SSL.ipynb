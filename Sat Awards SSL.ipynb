{
 "cells": [
  {
   "cell_type": "code",
   "execution_count": 1,
   "metadata": {},
   "outputs": [],
   "source": [
    "import numpy as np\n",
    "import pandas as pd\n",
    "import matplotlib.pyplot as plt\n",
    "import seaborn as sns\n",
    "%matplotlib inline"
   ]
  },
  {
   "cell_type": "code",
   "execution_count": 7,
   "metadata": {},
   "outputs": [],
   "source": [
    "df = pd.read_csv('Sat Awards SSL.csv',encoding='cp1252')"
   ]
  },
  {
   "cell_type": "code",
   "execution_count": 41,
   "metadata": {},
   "outputs": [
    {
     "data": {
      "text/html": [
       "<div>\n",
       "<style scoped>\n",
       "    .dataframe tbody tr th:only-of-type {\n",
       "        vertical-align: middle;\n",
       "    }\n",
       "\n",
       "    .dataframe tbody tr th {\n",
       "        vertical-align: top;\n",
       "    }\n",
       "\n",
       "    .dataframe thead th {\n",
       "        text-align: right;\n",
       "    }\n",
       "</style>\n",
       "<table border=\"1\" class=\"dataframe\">\n",
       "  <thead>\n",
       "    <tr style=\"text-align: right;\">\n",
       "      <th></th>\n",
       "      <th>Satellite Name</th>\n",
       "      <th>Company</th>\n",
       "      <th>Type</th>\n",
       "      <th>Award</th>\n",
       "      <th>Launch Date</th>\n",
       "    </tr>\n",
       "  </thead>\n",
       "  <tbody>\n",
       "    <tr>\n",
       "      <th>0</th>\n",
       "      <td>Psyche</td>\n",
       "      <td>NASA/JPL</td>\n",
       "      <td>Asteroid Exploration Mission</td>\n",
       "      <td>2017</td>\n",
       "      <td>NaN</td>\n",
       "    </tr>\n",
       "    <tr>\n",
       "      <th>1</th>\n",
       "      <td>RSGS</td>\n",
       "      <td>DARPA</td>\n",
       "      <td>Satellite Servicing</td>\n",
       "      <td>2017</td>\n",
       "      <td>NaN</td>\n",
       "    </tr>\n",
       "    <tr>\n",
       "      <th>2</th>\n",
       "      <td>Restore-L</td>\n",
       "      <td>NASA</td>\n",
       "      <td>Satellite Servicing</td>\n",
       "      <td>2016</td>\n",
       "      <td>NaN</td>\n",
       "    </tr>\n",
       "    <tr>\n",
       "      <th>3</th>\n",
       "      <td>SXM-8</td>\n",
       "      <td>SIRIUS XM Radio</td>\n",
       "      <td>Digital Audio Radio Satellite</td>\n",
       "      <td>2016</td>\n",
       "      <td>NaN</td>\n",
       "    </tr>\n",
       "    <tr>\n",
       "      <th>4</th>\n",
       "      <td>Intelsat 39</td>\n",
       "      <td>Intelsat</td>\n",
       "      <td>Broadband Services</td>\n",
       "      <td>2016</td>\n",
       "      <td>NaN</td>\n",
       "    </tr>\n",
       "  </tbody>\n",
       "</table>\n",
       "</div>"
      ],
      "text/plain": [
       "  Satellite Name          Company                           Type  Award  \\\n",
       "0         Psyche         NASA/JPL   Asteroid Exploration Mission   2017   \n",
       "1           RSGS            DARPA            Satellite Servicing   2017   \n",
       "2      Restore-L             NASA            Satellite Servicing   2016   \n",
       "3          SXM-8  SIRIUS XM Radio  Digital Audio Radio Satellite   2016   \n",
       "4    Intelsat 39         Intelsat             Broadband Services   2016   \n",
       "\n",
       "  Launch Date  \n",
       "0         NaN  \n",
       "1         NaN  \n",
       "2         NaN  \n",
       "3         NaN  \n",
       "4         NaN  "
      ]
     },
     "execution_count": 41,
     "metadata": {},
     "output_type": "execute_result"
    }
   ],
   "source": [
    "df.head()"
   ]
  },
  {
   "cell_type": "code",
   "execution_count": 42,
   "metadata": {},
   "outputs": [
    {
     "name": "stdout",
     "output_type": "stream",
     "text": [
      "<class 'pandas.core.frame.DataFrame'>\n",
      "RangeIndex: 185 entries, 0 to 184\n",
      "Data columns (total 5 columns):\n",
      "Satellite Name    185 non-null object\n",
      "Company           185 non-null object\n",
      "Type              183 non-null object\n",
      "Award             185 non-null int64\n",
      "Launch Date       172 non-null object\n",
      "dtypes: int64(1), object(4)\n",
      "memory usage: 7.3+ KB\n"
     ]
    }
   ],
   "source": [
    "df.info()"
   ]
  },
  {
   "cell_type": "code",
   "execution_count": 17,
   "metadata": {},
   "outputs": [],
   "source": [
    "award = df['Award'].value_counts()"
   ]
  },
  {
   "cell_type": "code",
   "execution_count": 18,
   "metadata": {},
   "outputs": [
    {
     "data": {
      "text/plain": [
       "1976    12\n",
       "2014     9\n",
       "2009     8\n",
       "1997     8\n",
       "2000     7\n",
       "1973     7\n",
       "2006     6\n",
       "1980     6\n",
       "1988     6\n",
       "1995     6\n",
       "1996     6\n",
       "2013     6\n",
       "2011     6\n",
       "2008     6\n",
       "2010     6\n",
       "2015     5\n",
       "2001     5\n",
       "1999     5\n",
       "1985     5\n",
       "2005     4\n",
       "1977     4\n",
       "1978     4\n",
       "1986     4\n",
       "1970     4\n",
       "2007     4\n",
       "2016     4\n",
       "2012     4\n",
       "1998     4\n",
       "1974     3\n",
       "1990     3\n",
       "2003     3\n",
       "1967     2\n",
       "1975     2\n",
       "2017     2\n",
       "1992     2\n",
       "1993     2\n",
       "2004     2\n",
       "1966     2\n",
       "1994     1\n",
       "Name: Award, dtype: int64"
      ]
     },
     "execution_count": 18,
     "metadata": {},
     "output_type": "execute_result"
    }
   ],
   "source": [
    "award"
   ]
  },
  {
   "cell_type": "code",
   "execution_count": 40,
   "metadata": {},
   "outputs": [
    {
     "data": {
      "text/plain": [
       "Text(0.5, 1.0, 'SSL Launch Date vs Count')"
      ]
     },
     "execution_count": 40,
     "metadata": {},
     "output_type": "execute_result"
    },
    {
     "data": {
      "image/png": "[encoded data removed]",
      "text/plain": [
       "<Figure size 864x432 with 1 Axes>"
      ]
     },
     "metadata": {
      "needs_background": "light"
     },
     "output_type": "display_data"
    }
   ],
   "source": [
    "plt.figure(figsize=(12,6))\n",
    "ax = sns.barplot(x=df.Award.value_counts().index, y=df.Award.value_counts(), palette='magma')\n",
    "\n",
    "ax.set_xticklabels(ax.get_xticklabels(), rotation=40, ha=\"right\")\n",
    "plt.tight_layout()\n",
    "ax.set_title(\"SSL Launch Date vs Count\")"
   ]
  }
 ],
 "metadata": {
  "kernelspec": {
   "display_name": "Python 3",
   "language": "python",
   "name": "python3"
  },
  "language_info": {
   "codemirror_mode": {
    "name": "ipython",
    "version": 3
   },
   "file_extension": ".py",
   "mimetype": "text/x-python",
   "name": "python",
   "nbconvert_exporter": "python",
   "pygments_lexer": "ipython3",
   "version": "3.7.3"
  }
 },
 "nbformat": 4,
 "nbformat_minor": 2
}
