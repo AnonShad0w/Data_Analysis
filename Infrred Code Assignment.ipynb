{
 "cells": [
  {
   "cell_type": "markdown",
   "metadata": {},
   "source": [
    "# Problem Statement\n",
    "\n",
    "Write a Jupyter Notebook to fetch US Stock Market data from any Open Source Finance API. Example: Yahoo Finance, Quandl or Finnhub.\n",
    "\n",
    "\n",
    "One task is to get the 1-year data for any one of the stocks (Eg: Tesla). Plot the data of the stock closing price using matplotlib highlighting the 52 week high and 52 week low. \n",
    "\n",
    "Now try to group the days when the integer price for the stock was the same. \n",
    "\n",
    "For eg: if the closing price for the week is: 300.50, 300.90, 302.20, 303.50, 303.80 then the group will be (300: 2, 302:1 , 303:2) and plot a bar graph for the same. (x- price, y - number of occurrences)\n",
    "\n",
    "\n",
    "*Please submit a well-documented jupyter notebook containing all your analysis, solution and alternate approaches, its advantages and disadvantages/limitations.*"
   ]
  },
  {
   "cell_type": "markdown",
   "metadata": {},
   "source": [
    "# Task 1"
   ]
  },
  {
   "cell_type": "code",
   "execution_count": 1,
   "metadata": {},
   "outputs": [],
   "source": [
    "# import finance API\n",
    "import yfinance as yf"
   ]
  },
  {
   "cell_type": "code",
   "execution_count": 2,
   "metadata": {},
   "outputs": [],
   "source": [
    "# import data analysis libraries\n",
    "import numpy as np\n",
    "import pandas as pd"
   ]
  },
  {
   "cell_type": "code",
   "execution_count": 3,
   "metadata": {},
   "outputs": [],
   "source": [
    "# import visual library\n",
    "import seaborn as sns\n",
    "import matplotlib.pyplot as plt\n",
    "%matplotlib inline"
   ]
  },
  {
   "cell_type": "code",
   "execution_count": 4,
   "metadata": {},
   "outputs": [],
   "source": [
    "# define the stock ticker symbol\n",
    "ticker_stock = 'TSLA'"
   ]
  },
  {
   "cell_type": "code",
   "execution_count": 5,
   "metadata": {},
   "outputs": [],
   "source": [
    "# put data into ticker data variable\n",
    "ticker_data = yf.Ticker(ticker_stock)"
   ]
  },
  {
   "cell_type": "code",
   "execution_count": 6,
   "metadata": {},
   "outputs": [],
   "source": [
    "# get 1-year of data for stock ticker symbol\n",
    "ticker_df = ticker_data.history(period='1d', start='2019-10-29', end='2020-10-29')"
   ]
  },
  {
   "cell_type": "code",
   "execution_count": 7,
   "metadata": {},
   "outputs": [
    {
     "name": "stdout",
     "output_type": "stream",
     "text": [
      "<class 'pandas.core.frame.DataFrame'>\n",
      "DatetimeIndex: 253 entries, 2019-10-29 to 2020-10-28\n",
      "Data columns (total 7 columns):\n",
      " #   Column        Non-Null Count  Dtype  \n",
      "---  ------        --------------  -----  \n",
      " 0   Open          253 non-null    float64\n",
      " 1   High          253 non-null    float64\n",
      " 2   Low           253 non-null    float64\n",
      " 3   Close         253 non-null    float64\n",
      " 4   Volume        253 non-null    int64  \n",
      " 5   Dividends     253 non-null    int64  \n",
      " 6   Stock Splits  253 non-null    float64\n",
      "dtypes: float64(5), int64(2)\n",
      "memory usage: 15.8 KB\n"
     ]
    }
   ],
   "source": [
    "# view dataset info\n",
    "ticker_df.info()"
   ]
  },
  {
   "cell_type": "code",
   "execution_count": 8,
   "metadata": {},
   "outputs": [
    {
     "data": {
      "text/html": [
       "<div>\n",
       "<style scoped>\n",
       "    .dataframe tbody tr th:only-of-type {\n",
       "        vertical-align: middle;\n",
       "    }\n",
       "\n",
       "    .dataframe tbody tr th {\n",
       "        vertical-align: top;\n",
       "    }\n",
       "\n",
       "    .dataframe thead th {\n",
       "        text-align: right;\n",
       "    }\n",
       "</style>\n",
       "<table border=\"1\" class=\"dataframe\">\n",
       "  <thead>\n",
       "    <tr style=\"text-align: right;\">\n",
       "      <th></th>\n",
       "      <th>Open</th>\n",
       "      <th>High</th>\n",
       "      <th>Low</th>\n",
       "      <th>Close</th>\n",
       "      <th>Volume</th>\n",
       "      <th>Dividends</th>\n",
       "      <th>Stock Splits</th>\n",
       "    </tr>\n",
       "  </thead>\n",
       "  <tbody>\n",
       "    <tr>\n",
       "      <th>count</th>\n",
       "      <td>253.000000</td>\n",
       "      <td>253.000000</td>\n",
       "      <td>253.000000</td>\n",
       "      <td>253.000000</td>\n",
       "      <td>2.530000e+02</td>\n",
       "      <td>253.0</td>\n",
       "      <td>253.000000</td>\n",
       "    </tr>\n",
       "    <tr>\n",
       "      <th>mean</th>\n",
       "      <td>206.589692</td>\n",
       "      <td>212.571463</td>\n",
       "      <td>200.417320</td>\n",
       "      <td>206.849312</td>\n",
       "      <td>6.897793e+07</td>\n",
       "      <td>0.0</td>\n",
       "      <td>0.019763</td>\n",
       "    </tr>\n",
       "    <tr>\n",
       "      <th>std</th>\n",
       "      <td>128.120956</td>\n",
       "      <td>131.695543</td>\n",
       "      <td>123.875002</td>\n",
       "      <td>128.106960</td>\n",
       "      <td>4.047695e+07</td>\n",
       "      <td>0.0</td>\n",
       "      <td>0.314347</td>\n",
       "    </tr>\n",
       "    <tr>\n",
       "      <th>min</th>\n",
       "      <td>62.599998</td>\n",
       "      <td>63.296001</td>\n",
       "      <td>61.852001</td>\n",
       "      <td>62.661999</td>\n",
       "      <td>1.232800e+07</td>\n",
       "      <td>0.0</td>\n",
       "      <td>0.000000</td>\n",
       "    </tr>\n",
       "    <tr>\n",
       "      <th>25%</th>\n",
       "      <td>101.000000</td>\n",
       "      <td>103.330002</td>\n",
       "      <td>98.433998</td>\n",
       "      <td>102.697998</td>\n",
       "      <td>3.973700e+07</td>\n",
       "      <td>0.0</td>\n",
       "      <td>0.000000</td>\n",
       "    </tr>\n",
       "    <tr>\n",
       "      <th>50%</th>\n",
       "      <td>161.000000</td>\n",
       "      <td>164.800003</td>\n",
       "      <td>157.000000</td>\n",
       "      <td>160.102005</td>\n",
       "      <td>6.331450e+07</td>\n",
       "      <td>0.0</td>\n",
       "      <td>0.000000</td>\n",
       "    </tr>\n",
       "    <tr>\n",
       "      <th>75%</th>\n",
       "      <td>300.799988</td>\n",
       "      <td>309.783997</td>\n",
       "      <td>294.200012</td>\n",
       "      <td>300.167999</td>\n",
       "      <td>8.817450e+07</td>\n",
       "      <td>0.0</td>\n",
       "      <td>0.000000</td>\n",
       "    </tr>\n",
       "    <tr>\n",
       "      <th>max</th>\n",
       "      <td>502.140015</td>\n",
       "      <td>502.489990</td>\n",
       "      <td>470.510010</td>\n",
       "      <td>498.320007</td>\n",
       "      <td>3.046940e+08</td>\n",
       "      <td>0.0</td>\n",
       "      <td>5.000000</td>\n",
       "    </tr>\n",
       "  </tbody>\n",
       "</table>\n",
       "</div>"
      ],
      "text/plain": [
       "             Open        High         Low       Close        Volume  \\\n",
       "count  253.000000  253.000000  253.000000  253.000000  2.530000e+02   \n",
       "mean   206.589692  212.571463  200.417320  206.849312  6.897793e+07   \n",
       "std    128.120956  131.695543  123.875002  128.106960  4.047695e+07   \n",
       "min     62.599998   63.296001   61.852001   62.661999  1.232800e+07   \n",
       "25%    101.000000  103.330002   98.433998  102.697998  3.973700e+07   \n",
       "50%    161.000000  164.800003  157.000000  160.102005  6.331450e+07   \n",
       "75%    300.799988  309.783997  294.200012  300.167999  8.817450e+07   \n",
       "max    502.140015  502.489990  470.510010  498.320007  3.046940e+08   \n",
       "\n",
       "       Dividends  Stock Splits  \n",
       "count      253.0    253.000000  \n",
       "mean         0.0      0.019763  \n",
       "std          0.0      0.314347  \n",
       "min          0.0      0.000000  \n",
       "25%          0.0      0.000000  \n",
       "50%          0.0      0.000000  \n",
       "75%          0.0      0.000000  \n",
       "max          0.0      5.000000  "
      ]
     },
     "execution_count": 8,
     "metadata": {},
     "output_type": "execute_result"
    }
   ],
   "source": [
    "# basic dataset statistics\n",
    "ticker_df.describe()"
   ]
  },
  {
   "cell_type": "code",
   "execution_count": 9,
   "metadata": {},
   "outputs": [
    {
     "data": {
      "text/html": [
       "<div>\n",
       "<style scoped>\n",
       "    .dataframe tbody tr th:only-of-type {\n",
       "        vertical-align: middle;\n",
       "    }\n",
       "\n",
       "    .dataframe tbody tr th {\n",
       "        vertical-align: top;\n",
       "    }\n",
       "\n",
       "    .dataframe thead th {\n",
       "        text-align: right;\n",
       "    }\n",
       "</style>\n",
       "<table border=\"1\" class=\"dataframe\">\n",
       "  <thead>\n",
       "    <tr style=\"text-align: right;\">\n",
       "      <th></th>\n",
       "      <th>Open</th>\n",
       "      <th>High</th>\n",
       "      <th>Low</th>\n",
       "      <th>Close</th>\n",
       "      <th>Volume</th>\n",
       "      <th>Dividends</th>\n",
       "      <th>Stock Splits</th>\n",
       "    </tr>\n",
       "    <tr>\n",
       "      <th>Date</th>\n",
       "      <th></th>\n",
       "      <th></th>\n",
       "      <th></th>\n",
       "      <th></th>\n",
       "      <th></th>\n",
       "      <th></th>\n",
       "      <th></th>\n",
       "    </tr>\n",
       "  </thead>\n",
       "  <tbody>\n",
       "    <tr>\n",
       "      <th>2019-10-29</th>\n",
       "      <td>63.998001</td>\n",
       "      <td>64.860001</td>\n",
       "      <td>62.950001</td>\n",
       "      <td>63.243999</td>\n",
       "      <td>63421500</td>\n",
       "      <td>0</td>\n",
       "      <td>0.0</td>\n",
       "    </tr>\n",
       "    <tr>\n",
       "      <th>2019-10-30</th>\n",
       "      <td>62.599998</td>\n",
       "      <td>63.757999</td>\n",
       "      <td>61.993999</td>\n",
       "      <td>63.001999</td>\n",
       "      <td>48209000</td>\n",
       "      <td>0</td>\n",
       "      <td>0.0</td>\n",
       "    </tr>\n",
       "    <tr>\n",
       "      <th>2019-10-31</th>\n",
       "      <td>62.619999</td>\n",
       "      <td>63.799999</td>\n",
       "      <td>62.599998</td>\n",
       "      <td>62.984001</td>\n",
       "      <td>25335000</td>\n",
       "      <td>0</td>\n",
       "      <td>0.0</td>\n",
       "    </tr>\n",
       "    <tr>\n",
       "      <th>2019-11-01</th>\n",
       "      <td>63.264000</td>\n",
       "      <td>63.296001</td>\n",
       "      <td>61.959999</td>\n",
       "      <td>62.661999</td>\n",
       "      <td>31919500</td>\n",
       "      <td>0</td>\n",
       "      <td>0.0</td>\n",
       "    </tr>\n",
       "    <tr>\n",
       "      <th>2019-11-04</th>\n",
       "      <td>62.959999</td>\n",
       "      <td>64.388000</td>\n",
       "      <td>61.852001</td>\n",
       "      <td>63.493999</td>\n",
       "      <td>43935000</td>\n",
       "      <td>0</td>\n",
       "      <td>0.0</td>\n",
       "    </tr>\n",
       "  </tbody>\n",
       "</table>\n",
       "</div>"
      ],
      "text/plain": [
       "                 Open       High        Low      Close    Volume  Dividends  \\\n",
       "Date                                                                          \n",
       "2019-10-29  63.998001  64.860001  62.950001  63.243999  63421500          0   \n",
       "2019-10-30  62.599998  63.757999  61.993999  63.001999  48209000          0   \n",
       "2019-10-31  62.619999  63.799999  62.599998  62.984001  25335000          0   \n",
       "2019-11-01  63.264000  63.296001  61.959999  62.661999  31919500          0   \n",
       "2019-11-04  62.959999  64.388000  61.852001  63.493999  43935000          0   \n",
       "\n",
       "            Stock Splits  \n",
       "Date                      \n",
       "2019-10-29           0.0  \n",
       "2019-10-30           0.0  \n",
       "2019-10-31           0.0  \n",
       "2019-11-01           0.0  \n",
       "2019-11-04           0.0  "
      ]
     },
     "execution_count": 9,
     "metadata": {},
     "output_type": "execute_result"
    }
   ],
   "source": [
    "# sample the data frame\n",
    "ticker_df.head()"
   ]
  },
  {
   "cell_type": "code",
   "execution_count": 10,
   "metadata": {},
   "outputs": [],
   "source": [
    "# change Date from index to column\n",
    "df = ticker_df.reset_index(inplace = True)"
   ]
  },
  {
   "cell_type": "code",
   "execution_count": 11,
   "metadata": {},
   "outputs": [
    {
     "data": {
      "text/html": [
       "<div>\n",
       "<style scoped>\n",
       "    .dataframe tbody tr th:only-of-type {\n",
       "        vertical-align: middle;\n",
       "    }\n",
       "\n",
       "    .dataframe tbody tr th {\n",
       "        vertical-align: top;\n",
       "    }\n",
       "\n",
       "    .dataframe thead th {\n",
       "        text-align: right;\n",
       "    }\n",
       "</style>\n",
       "<table border=\"1\" class=\"dataframe\">\n",
       "  <thead>\n",
       "    <tr style=\"text-align: right;\">\n",
       "      <th></th>\n",
       "      <th>Date</th>\n",
       "      <th>Open</th>\n",
       "      <th>High</th>\n",
       "      <th>Low</th>\n",
       "      <th>Close</th>\n",
       "      <th>Volume</th>\n",
       "      <th>Dividends</th>\n",
       "      <th>Stock Splits</th>\n",
       "    </tr>\n",
       "  </thead>\n",
       "  <tbody>\n",
       "    <tr>\n",
       "      <th>0</th>\n",
       "      <td>2019-10-29</td>\n",
       "      <td>63.998001</td>\n",
       "      <td>64.860001</td>\n",
       "      <td>62.950001</td>\n",
       "      <td>63.243999</td>\n",
       "      <td>63421500</td>\n",
       "      <td>0</td>\n",
       "      <td>0.0</td>\n",
       "    </tr>\n",
       "    <tr>\n",
       "      <th>1</th>\n",
       "      <td>2019-10-30</td>\n",
       "      <td>62.599998</td>\n",
       "      <td>63.757999</td>\n",
       "      <td>61.993999</td>\n",
       "      <td>63.001999</td>\n",
       "      <td>48209000</td>\n",
       "      <td>0</td>\n",
       "      <td>0.0</td>\n",
       "    </tr>\n",
       "    <tr>\n",
       "      <th>2</th>\n",
       "      <td>2019-10-31</td>\n",
       "      <td>62.619999</td>\n",
       "      <td>63.799999</td>\n",
       "      <td>62.599998</td>\n",
       "      <td>62.984001</td>\n",
       "      <td>25335000</td>\n",
       "      <td>0</td>\n",
       "      <td>0.0</td>\n",
       "    </tr>\n",
       "    <tr>\n",
       "      <th>3</th>\n",
       "      <td>2019-11-01</td>\n",
       "      <td>63.264000</td>\n",
       "      <td>63.296001</td>\n",
       "      <td>61.959999</td>\n",
       "      <td>62.661999</td>\n",
       "      <td>31919500</td>\n",
       "      <td>0</td>\n",
       "      <td>0.0</td>\n",
       "    </tr>\n",
       "    <tr>\n",
       "      <th>4</th>\n",
       "      <td>2019-11-04</td>\n",
       "      <td>62.959999</td>\n",
       "      <td>64.388000</td>\n",
       "      <td>61.852001</td>\n",
       "      <td>63.493999</td>\n",
       "      <td>43935000</td>\n",
       "      <td>0</td>\n",
       "      <td>0.0</td>\n",
       "    </tr>\n",
       "  </tbody>\n",
       "</table>\n",
       "</div>"
      ],
      "text/plain": [
       "        Date       Open       High        Low      Close    Volume  Dividends  \\\n",
       "0 2019-10-29  63.998001  64.860001  62.950001  63.243999  63421500          0   \n",
       "1 2019-10-30  62.599998  63.757999  61.993999  63.001999  48209000          0   \n",
       "2 2019-10-31  62.619999  63.799999  62.599998  62.984001  25335000          0   \n",
       "3 2019-11-01  63.264000  63.296001  61.959999  62.661999  31919500          0   \n",
       "4 2019-11-04  62.959999  64.388000  61.852001  63.493999  43935000          0   \n",
       "\n",
       "   Stock Splits  \n",
       "0           0.0  \n",
       "1           0.0  \n",
       "2           0.0  \n",
       "3           0.0  \n",
       "4           0.0  "
      ]
     },
     "execution_count": 11,
     "metadata": {},
     "output_type": "execute_result"
    }
   ],
   "source": [
    "# sample the new data frame\n",
    "ticker_df.head()"
   ]
  },
  {
   "cell_type": "code",
   "execution_count": 12,
   "metadata": {},
   "outputs": [
    {
     "data": {
      "text/plain": [
       "<matplotlib.axes._subplots.AxesSubplot at 0x20579fce288>"
      ]
     },
     "execution_count": 12,
     "metadata": {},
     "output_type": "execute_result"
    },
    {
     "data": {
      "image/png": "[encoded data removed]",
      "text/plain": [
       "<Figure size 432x288 with 1 Axes>"
      ]
     },
     "metadata": {
      "needs_background": "light"
     },
     "output_type": "display_data"
    }
   ],
   "source": [
    "# initial plot of Date vs. Close\n",
    "ticker_df['Close'].plot()"
   ]
  },
  {
   "cell_type": "code",
   "execution_count": 13,
   "metadata": {},
   "outputs": [
    {
     "name": "stdout",
     "output_type": "stream",
     "text": [
      "62.6619987487793\n"
     ]
    }
   ],
   "source": [
    "# minimum stock price in last 52 weeks\n",
    "min_price = ticker_df['Close'].min()\n",
    "print(min_price)"
   ]
  },
  {
   "cell_type": "code",
   "execution_count": 14,
   "metadata": {},
   "outputs": [
    {
     "name": "stdout",
     "output_type": "stream",
     "text": [
      "2019-11-01T00:00:00.000000000\n"
     ]
    }
   ],
   "source": [
    "# date of minimum stock price in last 52 weeks\n",
    "date_of_min = ticker_df[ticker_df['Close'] == min_price]['Date'].values[0]\n",
    "print(date_of_min)\n",
    "\n",
    "# convert to date to string\n",
    "min_date = pd.to_datetime(date_of_min)\n",
    "min_date = str(min_date.date())"
   ]
  },
  {
   "cell_type": "code",
   "execution_count": 15,
   "metadata": {},
   "outputs": [
    {
     "name": "stdout",
     "output_type": "stream",
     "text": [
      "498.32000732421875\n"
     ]
    }
   ],
   "source": [
    "# max stock price in last 52 weeks\n",
    "max_price = max(ticker_df['Close'])\n",
    "print(max_price)"
   ]
  },
  {
   "cell_type": "code",
   "execution_count": 16,
   "metadata": {},
   "outputs": [
    {
     "name": "stdout",
     "output_type": "stream",
     "text": [
      "2020-08-31T00:00:00.000000000\n"
     ]
    }
   ],
   "source": [
    "# date of max stock price in last 52 weeks\n",
    "date_of_max = ticker_df[ticker_df['Close'] == max_price]['Date'].values[0]\n",
    "print(date_of_max)\n",
    "\n",
    "# convert to date to string\n",
    "max_date = pd.to_datetime(date_of_max)\n",
    "max_date = str(max_date.date())"
   ]
  },
  {
   "cell_type": "code",
   "execution_count": 17,
   "metadata": {},
   "outputs": [
    {
     "data": {
      "text/plain": [
       "<matplotlib.legend.Legend at 0x2057a784f88>"
      ]
     },
     "execution_count": 17,
     "metadata": {},
     "output_type": "execute_result"
    },
    {
     "data": {
      "image/png": "[encoded data removed]",
      "text/plain": [
       "<Figure size 864x576 with 1 Axes>"
      ]
     },
     "metadata": {
      "needs_background": "light"
     },
     "output_type": "display_data"
    }
   ],
   "source": [
    "# adding labels, adjust plot size, highlight 52-week min/max\n",
    "fig = plt.figure(figsize=(12,8))\n",
    "plt.plot(ticker_df['Date'], ticker_df['Close'])\n",
    "plt.xlabel('Date', fontsize=14, fontweight='bold')\n",
    "plt.ylabel('Closing Price', fontsize=14, fontweight='bold')\n",
    "plt.title('1-Year Stock Performace for TSLA (10-29-2019 to 10-29-2020)', fontsize=14, fontweight='bold')\n",
    "plt.plot(date_of_min, min_price, marker = 'o', color = 'red', markersize = 5, label=f'{min_date}, ${min_price:.2f}')\n",
    "plt.plot(date_of_max, max_price, marker = 's', color = 'green', markersize = 6, label=f'{max_date}, ${max_price:.2f}')\n",
    "plt.legend(loc='upper left', shadow=True, borderpad=1)"
   ]
  },
  {
   "cell_type": "markdown",
   "metadata": {},
   "source": [
    "# Task 2\n",
    "Now try to group the days when the integer price for the stock was the same. \n",
    "\n",
    "For eg: if the closing price for the week is: \n",
    "- 300.50, 300.90, 302.20, 303.50, 303.80 \n",
    "\n",
    "then the group will be (300: 2, 302:1 , 303:2) and plot a bar graph for the same. (x- price, y - number of occurrences)"
   ]
  },
  {
   "cell_type": "code",
   "execution_count": 18,
   "metadata": {},
   "outputs": [],
   "source": [
    "# Set 'Date' column to index\n",
    "ticker_df.set_index('Date', inplace=True)"
   ]
  },
  {
   "cell_type": "code",
   "execution_count": 19,
   "metadata": {},
   "outputs": [
    {
     "data": {
      "text/html": [
       "<div>\n",
       "<style scoped>\n",
       "    .dataframe tbody tr th:only-of-type {\n",
       "        vertical-align: middle;\n",
       "    }\n",
       "\n",
       "    .dataframe tbody tr th {\n",
       "        vertical-align: top;\n",
       "    }\n",
       "\n",
       "    .dataframe thead th {\n",
       "        text-align: right;\n",
       "    }\n",
       "</style>\n",
       "<table border=\"1\" class=\"dataframe\">\n",
       "  <thead>\n",
       "    <tr style=\"text-align: right;\">\n",
       "      <th></th>\n",
       "      <th>Open</th>\n",
       "      <th>High</th>\n",
       "      <th>Low</th>\n",
       "      <th>Close</th>\n",
       "      <th>Volume</th>\n",
       "      <th>Dividends</th>\n",
       "      <th>Stock Splits</th>\n",
       "    </tr>\n",
       "    <tr>\n",
       "      <th>Date</th>\n",
       "      <th></th>\n",
       "      <th></th>\n",
       "      <th></th>\n",
       "      <th></th>\n",
       "      <th></th>\n",
       "      <th></th>\n",
       "      <th></th>\n",
       "    </tr>\n",
       "  </thead>\n",
       "  <tbody>\n",
       "    <tr>\n",
       "      <th>2019-10-29</th>\n",
       "      <td>63.998001</td>\n",
       "      <td>64.860001</td>\n",
       "      <td>62.950001</td>\n",
       "      <td>63.243999</td>\n",
       "      <td>63421500</td>\n",
       "      <td>0</td>\n",
       "      <td>0.0</td>\n",
       "    </tr>\n",
       "    <tr>\n",
       "      <th>2019-10-30</th>\n",
       "      <td>62.599998</td>\n",
       "      <td>63.757999</td>\n",
       "      <td>61.993999</td>\n",
       "      <td>63.001999</td>\n",
       "      <td>48209000</td>\n",
       "      <td>0</td>\n",
       "      <td>0.0</td>\n",
       "    </tr>\n",
       "    <tr>\n",
       "      <th>2019-10-31</th>\n",
       "      <td>62.619999</td>\n",
       "      <td>63.799999</td>\n",
       "      <td>62.599998</td>\n",
       "      <td>62.984001</td>\n",
       "      <td>25335000</td>\n",
       "      <td>0</td>\n",
       "      <td>0.0</td>\n",
       "    </tr>\n",
       "    <tr>\n",
       "      <th>2019-11-01</th>\n",
       "      <td>63.264000</td>\n",
       "      <td>63.296001</td>\n",
       "      <td>61.959999</td>\n",
       "      <td>62.661999</td>\n",
       "      <td>31919500</td>\n",
       "      <td>0</td>\n",
       "      <td>0.0</td>\n",
       "    </tr>\n",
       "    <tr>\n",
       "      <th>2019-11-04</th>\n",
       "      <td>62.959999</td>\n",
       "      <td>64.388000</td>\n",
       "      <td>61.852001</td>\n",
       "      <td>63.493999</td>\n",
       "      <td>43935000</td>\n",
       "      <td>0</td>\n",
       "      <td>0.0</td>\n",
       "    </tr>\n",
       "  </tbody>\n",
       "</table>\n",
       "</div>"
      ],
      "text/plain": [
       "                 Open       High        Low      Close    Volume  Dividends  \\\n",
       "Date                                                                          \n",
       "2019-10-29  63.998001  64.860001  62.950001  63.243999  63421500          0   \n",
       "2019-10-30  62.599998  63.757999  61.993999  63.001999  48209000          0   \n",
       "2019-10-31  62.619999  63.799999  62.599998  62.984001  25335000          0   \n",
       "2019-11-01  63.264000  63.296001  61.959999  62.661999  31919500          0   \n",
       "2019-11-04  62.959999  64.388000  61.852001  63.493999  43935000          0   \n",
       "\n",
       "            Stock Splits  \n",
       "Date                      \n",
       "2019-10-29           0.0  \n",
       "2019-10-30           0.0  \n",
       "2019-10-31           0.0  \n",
       "2019-11-01           0.0  \n",
       "2019-11-04           0.0  "
      ]
     },
     "execution_count": 19,
     "metadata": {},
     "output_type": "execute_result"
    }
   ],
   "source": [
    "# sample of dataset\n",
    "ticker_df.head()"
   ]
  },
  {
   "cell_type": "code",
   "execution_count": 20,
   "metadata": {},
   "outputs": [],
   "source": [
    "# create weekly dataset where beginning of week is Thursday (since I received this assignment on friday)\n",
    "weekly_dataset = ticker_df.resample('W-THU').agg({'Open': 'first',\n",
    "                                             'High': 'max',\n",
    "                                             'Low': 'min',\n",
    "                                             'Close': 'last',\n",
    "                                             'Volume': 'sum'},\n",
    "                                            loffset = pd.offsets.timedelta(days=-6))"
   ]
  },
  {
   "cell_type": "code",
   "execution_count": 21,
   "metadata": {},
   "outputs": [
    {
     "data": {
      "text/html": [
       "<div>\n",
       "<style scoped>\n",
       "    .dataframe tbody tr th:only-of-type {\n",
       "        vertical-align: middle;\n",
       "    }\n",
       "\n",
       "    .dataframe tbody tr th {\n",
       "        vertical-align: top;\n",
       "    }\n",
       "\n",
       "    .dataframe thead th {\n",
       "        text-align: right;\n",
       "    }\n",
       "</style>\n",
       "<table border=\"1\" class=\"dataframe\">\n",
       "  <thead>\n",
       "    <tr style=\"text-align: right;\">\n",
       "      <th></th>\n",
       "      <th>Open</th>\n",
       "      <th>High</th>\n",
       "      <th>Low</th>\n",
       "      <th>Close</th>\n",
       "      <th>Volume</th>\n",
       "    </tr>\n",
       "    <tr>\n",
       "      <th>Date</th>\n",
       "      <th></th>\n",
       "      <th></th>\n",
       "      <th></th>\n",
       "      <th></th>\n",
       "      <th></th>\n",
       "    </tr>\n",
       "  </thead>\n",
       "  <tbody>\n",
       "    <tr>\n",
       "      <th>2019-10-31</th>\n",
       "      <td>63.998001</td>\n",
       "      <td>64.860001</td>\n",
       "      <td>61.993999</td>\n",
       "      <td>62.984001</td>\n",
       "      <td>136965500</td>\n",
       "    </tr>\n",
       "    <tr>\n",
       "      <th>2019-11-07</th>\n",
       "      <td>63.264000</td>\n",
       "      <td>68.300003</td>\n",
       "      <td>61.852001</td>\n",
       "      <td>67.108002</td>\n",
       "      <td>222612500</td>\n",
       "    </tr>\n",
       "    <tr>\n",
       "      <th>2019-11-14</th>\n",
       "      <td>66.900002</td>\n",
       "      <td>71.265999</td>\n",
       "      <td>66.500000</td>\n",
       "      <td>69.870003</td>\n",
       "      <td>191501500</td>\n",
       "    </tr>\n",
       "    <tr>\n",
       "      <th>2019-11-21</th>\n",
       "      <td>70.127998</td>\n",
       "      <td>72.239998</td>\n",
       "      <td>69.220001</td>\n",
       "      <td>70.966003</td>\n",
       "      <td>148846500</td>\n",
       "    </tr>\n",
       "    <tr>\n",
       "      <th>2019-11-28</th>\n",
       "      <td>68.031998</td>\n",
       "      <td>68.914001</td>\n",
       "      <td>65.419998</td>\n",
       "      <td>66.258003</td>\n",
       "      <td>213565500</td>\n",
       "    </tr>\n",
       "  </tbody>\n",
       "</table>\n",
       "</div>"
      ],
      "text/plain": [
       "                 Open       High        Low      Close     Volume\n",
       "Date                                                             \n",
       "2019-10-31  63.998001  64.860001  61.993999  62.984001  136965500\n",
       "2019-11-07  63.264000  68.300003  61.852001  67.108002  222612500\n",
       "2019-11-14  66.900002  71.265999  66.500000  69.870003  191501500\n",
       "2019-11-21  70.127998  72.239998  69.220001  70.966003  148846500\n",
       "2019-11-28  68.031998  68.914001  65.419998  66.258003  213565500"
      ]
     },
     "execution_count": 21,
     "metadata": {},
     "output_type": "execute_result"
    }
   ],
   "source": [
    "# sample of weekly dataset\n",
    "weekly_dataset.head()"
   ]
  },
  {
   "cell_type": "code",
   "execution_count": 22,
   "metadata": {},
   "outputs": [
    {
     "name": "stdout",
     "output_type": "stream",
     "text": [
      "<class 'pandas.core.frame.DataFrame'>\n",
      "DatetimeIndex: 53 entries, 2019-10-31 to 2020-10-29\n",
      "Freq: W-THU\n",
      "Data columns (total 5 columns):\n",
      " #   Column  Non-Null Count  Dtype  \n",
      "---  ------  --------------  -----  \n",
      " 0   Open    53 non-null     float64\n",
      " 1   High    53 non-null     float64\n",
      " 2   Low     53 non-null     float64\n",
      " 3   Close   53 non-null     float64\n",
      " 4   Volume  53 non-null     int64  \n",
      "dtypes: float64(4), int64(1)\n",
      "memory usage: 5.0 KB\n"
     ]
    }
   ],
   "source": [
    "# weekly data information\n",
    "weekly_dataset.info()"
   ]
  },
  {
   "cell_type": "code",
   "execution_count": 23,
   "metadata": {},
   "outputs": [
    {
     "data": {
      "text/html": [
       "<div>\n",
       "<style scoped>\n",
       "    .dataframe tbody tr th:only-of-type {\n",
       "        vertical-align: middle;\n",
       "    }\n",
       "\n",
       "    .dataframe tbody tr th {\n",
       "        vertical-align: top;\n",
       "    }\n",
       "\n",
       "    .dataframe thead th {\n",
       "        text-align: right;\n",
       "    }\n",
       "</style>\n",
       "<table border=\"1\" class=\"dataframe\">\n",
       "  <thead>\n",
       "    <tr style=\"text-align: right;\">\n",
       "      <th></th>\n",
       "      <th>Open</th>\n",
       "      <th>High</th>\n",
       "      <th>Low</th>\n",
       "      <th>Close</th>\n",
       "      <th>Volume</th>\n",
       "    </tr>\n",
       "  </thead>\n",
       "  <tbody>\n",
       "    <tr>\n",
       "      <th>count</th>\n",
       "      <td>53.000000</td>\n",
       "      <td>53.000000</td>\n",
       "      <td>53.000000</td>\n",
       "      <td>53.000000</td>\n",
       "      <td>5.300000e+01</td>\n",
       "    </tr>\n",
       "    <tr>\n",
       "      <th>mean</th>\n",
       "      <td>201.006754</td>\n",
       "      <td>221.788943</td>\n",
       "      <td>187.828980</td>\n",
       "      <td>206.424152</td>\n",
       "      <td>3.292720e+08</td>\n",
       "    </tr>\n",
       "    <tr>\n",
       "      <th>std</th>\n",
       "      <td>128.040032</td>\n",
       "      <td>138.636725</td>\n",
       "      <td>118.499430</td>\n",
       "      <td>128.476214</td>\n",
       "      <td>1.729289e+08</td>\n",
       "    </tr>\n",
       "    <tr>\n",
       "      <th>min</th>\n",
       "      <td>63.264000</td>\n",
       "      <td>64.860001</td>\n",
       "      <td>61.852001</td>\n",
       "      <td>62.984001</td>\n",
       "      <td>7.554540e+07</td>\n",
       "    </tr>\n",
       "    <tr>\n",
       "      <th>25%</th>\n",
       "      <td>101.000000</td>\n",
       "      <td>112.000000</td>\n",
       "      <td>89.279999</td>\n",
       "      <td>102.697998</td>\n",
       "      <td>2.022080e+08</td>\n",
       "    </tr>\n",
       "    <tr>\n",
       "      <th>50%</th>\n",
       "      <td>157.444000</td>\n",
       "      <td>168.658005</td>\n",
       "      <td>146.000000</td>\n",
       "      <td>160.666000</td>\n",
       "      <td>3.307720e+08</td>\n",
       "    </tr>\n",
       "    <tr>\n",
       "      <th>75%</th>\n",
       "      <td>299.907990</td>\n",
       "      <td>330.235992</td>\n",
       "      <td>275.201996</td>\n",
       "      <td>300.127991</td>\n",
       "      <td>4.122630e+08</td>\n",
       "    </tr>\n",
       "    <tr>\n",
       "      <th>max</th>\n",
       "      <td>459.023987</td>\n",
       "      <td>502.489990</td>\n",
       "      <td>426.459991</td>\n",
       "      <td>448.880005</td>\n",
       "      <td>1.060981e+09</td>\n",
       "    </tr>\n",
       "  </tbody>\n",
       "</table>\n",
       "</div>"
      ],
      "text/plain": [
       "             Open        High         Low       Close        Volume\n",
       "count   53.000000   53.000000   53.000000   53.000000  5.300000e+01\n",
       "mean   201.006754  221.788943  187.828980  206.424152  3.292720e+08\n",
       "std    128.040032  138.636725  118.499430  128.476214  1.729289e+08\n",
       "min     63.264000   64.860001   61.852001   62.984001  7.554540e+07\n",
       "25%    101.000000  112.000000   89.279999  102.697998  2.022080e+08\n",
       "50%    157.444000  168.658005  146.000000  160.666000  3.307720e+08\n",
       "75%    299.907990  330.235992  275.201996  300.127991  4.122630e+08\n",
       "max    459.023987  502.489990  426.459991  448.880005  1.060981e+09"
      ]
     },
     "execution_count": 23,
     "metadata": {},
     "output_type": "execute_result"
    }
   ],
   "source": [
    "# weekly data statistics\n",
    "weekly_dataset.describe()"
   ]
  },
  {
   "cell_type": "code",
   "execution_count": 24,
   "metadata": {},
   "outputs": [
    {
     "data": {
      "text/plain": [
       "Date\n",
       "2019-10-31    62.984001\n",
       "2019-11-07    67.108002\n",
       "2019-11-14    69.870003\n",
       "2019-11-21    70.966003\n",
       "2019-11-28    66.258003\n",
       "Freq: W-THU, Name: Close, dtype: float64"
      ]
     },
     "execution_count": 24,
     "metadata": {},
     "output_type": "execute_result"
    }
   ],
   "source": [
    "weekly_dataset['Close'].head()"
   ]
  },
  {
   "cell_type": "code",
   "execution_count": 25,
   "metadata": {},
   "outputs": [],
   "source": [
    "# get close price data into a variable\n",
    "prices = weekly_dataset['Close']"
   ]
  },
  {
   "cell_type": "code",
   "execution_count": 26,
   "metadata": {},
   "outputs": [],
   "source": [
    "\"\"\"\n",
    "function to truncate the input prices\n",
    "\"\"\"\n",
    "# import python standard library\n",
    "from math import floor\n",
    "\n",
    "def truncate_price(prices):\n",
    "\n",
    "    # initialize list for truncated input price\n",
    "    truncated_prices = []\n",
    "    \n",
    "    # create trucated prices list from floating point input prices list\n",
    "    for s in prices:\n",
    "        trucated = floor(s)\n",
    "        truncated_prices.append(trucated)\n",
    "\n",
    "    #print(f'{truncated_prices}, {len(truncated_prices)}')\n",
    "    return truncated_prices"
   ]
  },
  {
   "cell_type": "code",
   "execution_count": 27,
   "metadata": {},
   "outputs": [
    {
     "name": "stdout",
     "output_type": "stream",
     "text": [
      "[62, 67, 69, 70, 66, 66, 71, 80, 86, 86, 96, 102, 114, 128, 149, 160, 179, 135, 144, 112, 85, 105, 90, 114, 149, 141, 156, 156, 160, 165, 161, 172, 194, 200, 197, 241, 278, 300, 302, 297, 297, 324, 400, 447, 407, 371, 423, 387, 448, 425, 448, 425, 406]\n"
     ]
    },
    {
     "data": {
      "text/plain": [
       "53"
      ]
     },
     "execution_count": 27,
     "metadata": {},
     "output_type": "execute_result"
    }
   ],
   "source": [
    "# call the function\n",
    "integer_price_list = truncate_price(prices)\n",
    "print(integer_price_list)\n",
    "len(integer_price_list)"
   ]
  },
  {
   "cell_type": "code",
   "execution_count": 28,
   "metadata": {},
   "outputs": [],
   "source": [
    "\"\"\"\n",
    "function that builds a frequency list based on the input prices and returns\n",
    "a frequency hash table (key: price, value: frequency)\n",
    "\"\"\"\n",
    "# import python standard library\n",
    "from math import floor\n",
    "\n",
    "def price_frequency(prices):\n",
    "    \n",
    "    # get max truncated value from input prices into a variable\n",
    "    max_val = floor(max(prices))\n",
    "\n",
    "    # initialize frequency list\n",
    "    stack = [0] * max_val\n",
    "\n",
    "    # create frequency list from truncated prices list\n",
    "    for i in truncate_price(prices):\n",
    "        x = i - 1\n",
    "        #print(f'i: {i} x: {x}')\n",
    "        stack[x] += 1\n",
    "\n",
    "    #print(f'{stack}, {len(stack)}')\n",
    "    \n",
    "    # initialize and build frequency dictionary, discard values of 0\n",
    "    freq_dict = {k: v for k, v in enumerate(stack, 1) if v != 0}\n",
    "    \n",
    "    return freq_dict"
   ]
  },
  {
   "cell_type": "code",
   "execution_count": 29,
   "metadata": {},
   "outputs": [
    {
     "name": "stdout",
     "output_type": "stream",
     "text": [
      "{62: 1, 66: 2, 67: 1, 69: 1, 70: 1, 71: 1, 80: 1, 85: 1, 86: 2, 90: 1, 96: 1, 102: 1, 105: 1, 112: 1, 114: 2, 128: 1, 135: 1, 141: 1, 144: 1, 149: 2, 156: 2, 160: 2, 161: 1, 165: 1, 172: 1, 179: 1, 194: 1, 197: 1, 200: 1, 241: 1, 278: 1, 297: 2, 300: 1, 302: 1, 324: 1, 371: 1, 387: 1, 400: 1, 406: 1, 407: 1, 423: 1, 425: 2, 447: 1, 448: 2} 44\n"
     ]
    }
   ],
   "source": [
    "# call the function\n",
    "frequency = price_frequency(prices)\n",
    "print(frequency, len(frequency))"
   ]
  },
  {
   "cell_type": "code",
   "execution_count": 30,
   "metadata": {},
   "outputs": [
    {
     "data": {
      "text/plain": [
       "'2019-10-31'"
      ]
     },
     "execution_count": 30,
     "metadata": {},
     "output_type": "execute_result"
    }
   ],
   "source": [
    "# the first weekly date\n",
    "min_date = weekly_dataset.index[0].date()\n",
    "str(min_date)"
   ]
  },
  {
   "cell_type": "code",
   "execution_count": 31,
   "metadata": {},
   "outputs": [
    {
     "data": {
      "text/plain": [
       "'2020-10-29'"
      ]
     },
     "execution_count": 31,
     "metadata": {},
     "output_type": "execute_result"
    }
   ],
   "source": [
    "# the last weekly date\n",
    "max_date = weekly_dataset.index[-1].date()\n",
    "str(max_date)"
   ]
  },
  {
   "cell_type": "markdown",
   "metadata": {},
   "source": [
    "# matplotlib Bar Chart"
   ]
  },
  {
   "cell_type": "code",
   "execution_count": 50,
   "metadata": {},
   "outputs": [
    {
     "data": {
      "image/png": "[encoded data removed]",
      "text/plain": [
       "<Figure size 864x576 with 1 Axes>"
      ]
     },
     "metadata": {
      "needs_background": "light"
     },
     "output_type": "display_data"
    }
   ],
   "source": [
    "# plot the frequency of prices as a bar chart\n",
    "fig = plt.figure(figsize=(12,8))\n",
    "plt.xlabel('Price', fontsize=14, fontweight='bold')\n",
    "plt.ylabel('Number of Occurrences', fontsize=14, fontweight='bold')\n",
    "plt.title(f'Weekly Stock Price Frequency for TSLA ({min_date} - {max_date})', fontsize=14, fontweight='bold')\n",
    "bar_chart = plt.bar(list(frequency.keys()), frequency.values(), width=0.5)"
   ]
  },
  {
   "cell_type": "code",
   "execution_count": 33,
   "metadata": {},
   "outputs": [
    {
     "name": "stdout",
     "output_type": "stream",
     "text": [
      "[62, 66, 67, 69, 70, 71, 80, 85, 86, 90, 96, 102, 105, 112, 114, 128, 135, 141, 144, 149, 156, 160, 161, 165, 172, 179, 194, 197, 200, 241, 278, 297, 300, 302, 324, 371, 387, 400, 406, 407, 423, 425, 447, 448]\n"
     ]
    }
   ],
   "source": [
    "# convert frequency dictionary keys into list\n",
    "frequency_bins = list(frequency.keys())\n",
    "print(frequency_bins)"
   ]
  },
  {
   "cell_type": "code",
   "execution_count": 34,
   "metadata": {},
   "outputs": [
    {
     "name": "stdout",
     "output_type": "stream",
     "text": [
      "44\n"
     ]
    }
   ],
   "source": [
    "# length of frequency key list\n",
    "num_bins = len(frequency_bins)\n",
    "print(num_bins)"
   ]
  },
  {
   "cell_type": "code",
   "execution_count": 35,
   "metadata": {},
   "outputs": [],
   "source": [
    "hist, bin_edges = np.histogram(integer_price_list, bins = num_bins)"
   ]
  },
  {
   "cell_type": "code",
   "execution_count": 36,
   "metadata": {},
   "outputs": [
    {
     "data": {
      "text/plain": [
       "array([6, 1, 4, 2, 2, 3, 0, 1, 1, 4, 2, 4, 1, 1, 0, 3, 0, 0, 0, 0, 1, 0,\n",
       "       0, 0, 1, 0, 2, 2, 0, 1, 0, 0, 0, 0, 0, 1, 0, 1, 1, 2, 0, 3, 0, 3],\n",
       "      dtype=int64)"
      ]
     },
     "execution_count": 36,
     "metadata": {},
     "output_type": "execute_result"
    }
   ],
   "source": [
    "hist"
   ]
  },
  {
   "cell_type": "code",
   "execution_count": 37,
   "metadata": {},
   "outputs": [
    {
     "data": {
      "text/plain": [
       "array([ 62.        ,  70.77272727,  79.54545455,  88.31818182,\n",
       "        97.09090909, 105.86363636, 114.63636364, 123.40909091,\n",
       "       132.18181818, 140.95454545, 149.72727273, 158.5       ,\n",
       "       167.27272727, 176.04545455, 184.81818182, 193.59090909,\n",
       "       202.36363636, 211.13636364, 219.90909091, 228.68181818,\n",
       "       237.45454545, 246.22727273, 255.        , 263.77272727,\n",
       "       272.54545455, 281.31818182, 290.09090909, 298.86363636,\n",
       "       307.63636364, 316.40909091, 325.18181818, 333.95454545,\n",
       "       342.72727273, 351.5       , 360.27272727, 369.04545455,\n",
       "       377.81818182, 386.59090909, 395.36363636, 404.13636364,\n",
       "       412.90909091, 421.68181818, 430.45454545, 439.22727273,\n",
       "       448.        ])"
      ]
     },
     "execution_count": 37,
     "metadata": {},
     "output_type": "execute_result"
    }
   ],
   "source": [
    "bin_edges"
   ]
  },
  {
   "cell_type": "code",
   "execution_count": 38,
   "metadata": {},
   "outputs": [
    {
     "data": {
      "text/plain": [
       "(44, 45)"
      ]
     },
     "execution_count": 38,
     "metadata": {},
     "output_type": "execute_result"
    }
   ],
   "source": [
    "hist.size, bin_edges.size"
   ]
  },
  {
   "cell_type": "code",
   "execution_count": 39,
   "metadata": {},
   "outputs": [],
   "source": [
    "first_edge, last_edge = min(frequency_bins), max(frequency_bins)"
   ]
  },
  {
   "cell_type": "markdown",
   "metadata": {},
   "source": [
    "# matplotlib Histogram"
   ]
  },
  {
   "cell_type": "code",
   "execution_count": 48,
   "metadata": {},
   "outputs": [
    {
     "data": {
      "image/png": "[encoded data removed]",
      "text/plain": [
       "<Figure size 864x576 with 1 Axes>"
      ]
     },
     "metadata": {
      "needs_background": "light"
     },
     "output_type": "display_data"
    }
   ],
   "source": [
    "# plot the frequency of prices as a histogram using matplotlib\n",
    "fig = plt.figure(figsize=(12,8))\n",
    "plt.xlabel('Price', fontsize=14, fontweight='bold')\n",
    "plt.ylabel('Number of Occurrences', fontsize=14, fontweight='bold')\n",
    "plt.title(f'Weekly Stock Price Frequency for TSLA ({min_date} - {max_date})', fontsize=14, fontweight='bold')\n",
    "n, bins, patches = plt.hist(x=integer_price_list, bins=150, alpha=0.8, rwidth=0.25)"
   ]
  },
  {
   "cell_type": "code",
   "execution_count": null,
   "metadata": {},
   "outputs": [],
   "source": []
  },
  {
   "cell_type": "markdown",
   "metadata": {},
   "source": [
    "# seaborn Histogram"
   ]
  },
  {
   "cell_type": "code",
   "execution_count": null,
   "metadata": {},
   "outputs": [],
   "source": [
    "# plot the frequency of prices as a histogram using seaborn\n",
    "fig = plt.figure(figsize=(12,8))\n",
    "plt.xlabel('Price', fontsize=14, fontweight='bold')\n",
    "plt.ylabel('Number of Occurrences', fontsize=14, fontweight='bold')\n",
    "plt.title(f'Weekly Stock Price Frequency for TSLA ({min_date} - {max_date})', fontsize=14, fontweight='bold')\n",
    "sns_plot = sns.distplot(integer_price_list, kde=False, bins=150, hist=True)"
   ]
  },
  {
   "cell_type": "code",
   "execution_count": null,
   "metadata": {},
   "outputs": [],
   "source": []
  },
  {
   "cell_type": "markdown",
   "metadata": {},
   "source": [
    "# Advantages and Disadvantages\n",
    "\n",
    "- plt.bar from matplotlib effectively plots the price as a function of frequency after cleaning the dataset.\n",
    "\n",
    "- plt.hist from matplotlib plots the data through the use of equally sized bins. The bin sizes and edges can be customized along with many other parameters. This approach is best for large datasets and fine tuning of plots. The disadvantage is a lot of time consumed during the fine-tuning process and I found it challenging to plot the price vs. frequency because of the equal size bins constraint.\n",
    "\n",
    "- sns.distplot from seaborn is advantageous when combining a histogram and KDE (Kernel Density Estimation) plot together because the KDE is built in as a function boolean parameter. Again, I found it challenging to plot the price as a function of freqency because of the equal size bins constraint.\n",
    "\n"
   ]
  },
  {
   "cell_type": "code",
   "execution_count": null,
   "metadata": {},
   "outputs": [],
   "source": []
  }
 ],
 "metadata": {
  "kernelspec": {
   "display_name": "Python 3",
   "language": "python",
   "name": "python3"
  },
  "language_info": {
   "codemirror_mode": {
    "name": "ipython",
    "version": 3
   },
   "file_extension": ".py",
   "mimetype": "text/x-python",
   "name": "python",
   "nbconvert_exporter": "python",
   "pygments_lexer": "ipython3",
   "version": "3.7.7"
  }
 },
 "nbformat": 4,
 "nbformat_minor": 4
}
